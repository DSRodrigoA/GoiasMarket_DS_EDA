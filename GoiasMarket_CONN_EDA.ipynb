{
 "cells": [
  {
   "attachments": {
    "sql_server_logo.jpg": {
     "image/jpeg": "[encoded data removed]"
    }
   },
   "cell_type": "markdown",
   "metadata": {},
   "source": [
    "# CONEXÃO E ANÁLISE EXPLORATÓRIA DE DADOS (AED) UTILIZANDO INTEGRAÇÃO DE PYTHON AO SQL SERVER\n",
    "\n",
    "![sql_server_logo.jpg](attachment:sql_server_logo.jpg)\n",
    "\n",
    "O Python apresenta uma versatilidade muito grande em relação à sua integração com outros sistemas e outras linguagens.\n",
    "\n",
    "A utilização de bibliotecas específicas podem expadir ainda mais o poder de alcance da modelagem de pipelines, alcançando os dados necessários onde quer que eles se encontrem.\n",
    "\n",
    "A biblioteca 'PYODBC' é responsável por realizar a interface de conexão com bancos ODBC. Nesse caso com o SQL Server.\n",
    "\n",
    "A Goiás Market já está como o seu Data Warehouse modelado e operacional, com o BI Self-Service atuando internamente. \n",
    "A empresa agora pretende expandir sua cultura de dados e aplicar técnicas de ciência de dados com técnicas de Data Mining para descoberta de padrões e comportamentos, previsões de vendas e lucro utilizando Machine Learning e BigData Analytics para uma melhor tomada de decisão baseada em dados. "
   ]
  },
  {
   "cell_type": "code",
   "execution_count": 1,
   "metadata": {},
   "outputs": [],
   "source": [
    "# Bibliotecas utilizadas\n",
    "\n",
    "import pyodbc # Conector do SQL Server\n",
    "import pandas as pd\n",
    "import matplotlib.pyplot as plt\n",
    "import colorsys\n",
    "plt.style.use('seaborn-talk')"
   ]
  },
  {
   "cell_type": "code",
   "execution_count": 2,
   "metadata": {},
   "outputs": [],
   "source": [
    "# Parâmetros do Pandas\n",
    "\n",
    "pd.set_option('display.precision', 5)\n",
    "pd.set_option('display.max_columns', 15)\n",
    "pd.set_option('display.width', 100)\n",
    "# pd.set_option('display.min_rows', 40)"
   ]
  },
  {
   "cell_type": "code",
   "execution_count": 3,
   "metadata": {},
   "outputs": [],
   "source": [
    "# Definimos os parâmetros de conxão com o SQL Server e com o database à ser analisado. Nesse caso, o database em questão\n",
    "# será o Data Warehouse da Goiás Market, o COMERCIO_DW.\n",
    "\n",
    "conn = pyodbc.connect('Driver={SQL Server};'\n",
    "                      'Server=BISERVER;'\n",
    "                      'Database=COMERCIO_DW;'\n",
    "                      'Trusted_Connection=yes;')"
   ]
  },
  {
   "cell_type": "code",
   "execution_count": 4,
   "metadata": {},
   "outputs": [
    {
     "data": {
      "text/plain": [
       "pyodbc.Connection"
      ]
     },
     "execution_count": 4,
     "metadata": {},
     "output_type": "execute_result"
    }
   ],
   "source": [
    "# Verificamos o tipo do objeto (conn) criado como conexão com o SQL Server.\n",
    "\n",
    "type(conn)"
   ]
  },
  {
   "cell_type": "code",
   "execution_count": 5,
   "metadata": {
    "scrolled": false
   },
   "outputs": [
    {
     "name": "stdout",
     "output_type": "stream",
     "text": [
      "          DATA  INVOICE            CLIENTE                   PRODUTO         CATEGORIA  \\\n",
      "0   2017-01-01      288         Alex Souza            Poderoso Chefe              DVDS   \n",
      "1   2017-01-01      288         Alex Souza                     Wario             GAMES   \n",
      "2   2017-01-01     3069         Luan Rocha             Exchange 2014            LIVROS   \n",
      "3   2017-01-01     3069         Luan Rocha                Xtg Rad D3       INFORMATICA   \n",
      "4   2017-01-01     3870        Kauê Santos          Notebook Msft 17       INFORMATICA   \n",
      "5   2017-01-01     3870        Kauê Santos         Notebook Hp Inove       INFORMATICA   \n",
      "6   2017-01-01     2584     Leonardo Sousa             Playstation 3             GAMES   \n",
      "7   2017-01-01     1962     Vitór Ferreira  Windows 2016 Visao Geral            LIVROS   \n",
      "8   2017-01-01     3800     Douglas Barros                     Hd 2t       INFORMATICA   \n",
      "9   2017-01-01      941        Kauan Alves             Desktop P5 Hp       INFORMATICA   \n",
      "10  2017-01-01     4886  Gabrielle Correia     Freezer 300l Brastemp  ELETRODOMESTICOS   \n",
      "11  2017-01-01     3625      Arthur Araujo                C# Pratico            LIVROS   \n",
      "12  2017-01-01     1092       Murilo Souza                 Revelados            LIVROS   \n",
      "13  2017-01-01     1092       Murilo Souza                   Moto G6         CELULARES   \n",
      "14  2017-01-01     3241      Douglas Rocha    Rio De Janeiro / Paris         PASSAGENS   \n",
      "15  2017-01-01     2324     Rodrigo Castro  Sao Paulo / Buenos Aires         PASSAGENS   \n",
      "16  2017-01-01     1092       Murilo Souza              Homem De Aço              DVDS   \n",
      "17  2017-01-01     2772         Luiz Costa            Juicer Wallita  ELETRODOMESTICOS   \n",
      "18  2017-01-01     3625      Arthur Araujo           Notebook Hp One       INFORMATICA   \n",
      "19  2017-01-01     2772         Luiz Costa             Hd 2t Samsung       INFORMATICA   \n",
      "\n",
      "                    FORNECEDOR           VENDEDOR                      FORMAPAG  QUANTIDADE  \\\n",
      "0            STUDIOS HOLLYWOOD        CLARA MAFRA         Cartão Master 4 vezes           2   \n",
      "1                BILLZAR GAMES        CLARA MAFRA         Cartão Master 4 vezes           2   \n",
      "2                    MICROSOFT    TERESA CRISTINA      Cartão American 10 vezes           4   \n",
      "3                       GFORCE    TERESA CRISTINA      Cartão American 10 vezes           2   \n",
      "4                    MICROSOFT     DEBORA ALMEIDA              Pay Pall - Vista           3   \n",
      "5                           HP     DEBORA ALMEIDA              Pay Pall - Vista           3   \n",
      "6                         SONY        CLARA MAFRA    Cartão Master - Vencimento           3   \n",
      "7                    MICROSOFT    TERESA CRISTINA      Cartão Visa - Vencimento           1   \n",
      "8                   MULTILASER      FABIO AUGUSTO  Pagamento Seguro Web - Vista           2   \n",
      "9                           HP      PILAR SANCHES           Pay Pall - 12 vezes           3   \n",
      "10                    BRASTEMP         JOAO NUNES                Boleto - Vista           2   \n",
      "11                   MICROSOFT       DAVID BORGES          Cartão Visa 10 vezes           2   \n",
      "12            EDITORA LELIVROS      HERMES MACEDO           Pay Pall - 12 vezes           1   \n",
      "13                    MOTOROLA      HERMES MACEDO           Pay Pall - 12 vezes           4   \n",
      "14  LINHAS INTERNACIONAIS EURO         JOAO NUNES      Cartão American 12 vezes           1   \n",
      "15    LINHAS LATINAS DE AVIÕES      ANTONIO JESUS              Pay Pall - Vista           3   \n",
      "16          STUDIOS CALIFORNIA      HERMES MACEDO           Pay Pall - 12 vezes           2   \n",
      "17                     WALLITA  MARCELO WITEMBERG         Cartão Master 4 vezes           3   \n",
      "18                          HP       DAVID BORGES          Cartão Visa 10 vezes           4   \n",
      "19                     SAMSUNG  MARCELO WITEMBERG         Cartão Master 4 vezes           3   \n",
      "\n",
      "    TOTAL_ITEM  CUSTO_TOTAL  LUCRO_TOTAL  \n",
      "0        196.0         92.0        104.0  \n",
      "1        290.0        156.0        134.0  \n",
      "2        520.0        360.0        160.0  \n",
      "3       1400.0        978.0        422.0  \n",
      "4       9300.0       8100.0       1200.0  \n",
      "5       9900.0       8100.0       1800.0  \n",
      "6       2940.0       1770.0       1170.0  \n",
      "7         90.0         45.0         45.0  \n",
      "8       1300.0        600.0        700.0  \n",
      "9       4200.0       2940.0       1260.0  \n",
      "10      3600.0       1972.0       1628.0  \n",
      "11       120.0         90.0         30.0  \n",
      "12        48.0         24.0         24.0  \n",
      "13      3440.0       2480.0        960.0  \n",
      "14      2300.0       1980.0        320.0  \n",
      "15      3270.0       3000.0        270.0  \n",
      "16        90.0         40.0         50.0  \n",
      "17      1350.0       1101.0        249.0  \n",
      "18      7480.0       5200.0       2280.0  \n",
      "19      1650.0        600.0       1050.0  \n"
     ]
    }
   ],
   "source": [
    "# Com a conexão realizada e verificada, podemos dar início à interação com o SQL Server, realizando as queries necessárias\n",
    "# para seleção de dados e criação de pipelines com as fontes de dados.\n",
    "\n",
    "# Para este estudo, utilizaremos a bilbioteca Pandas para realizar as queries, já criando os dataframes. A função do pandas \n",
    "# que será utilizada para realizar a interface com o SQL, será o 'read_sql', utilizando as subfunções necessárias. \n",
    "\n",
    "# A Query SQL pode ser definida abaixo, relacionando a tabela 'FATO' com as outras dimensões do DW através de JOIN's pelas PK\n",
    "# e SK. A forma com que modela a query no Python segue da mesma maneira que no SQL Server.\n",
    "\n",
    "# Para facilitar o entendimento da função, foi modelada ainda no SQL Server uma view com exatamente os dados abaixo. Portanto,\n",
    "# fazemos um SELECT da view 'PIPELINE_FATO' e definimos o parâmetro de conexão 'conn' para executar a função de query do pandas.\n",
    "\n",
    "# QUERY SQL / VIEW PIPELINE_FATO:\n",
    "\n",
    "# SELECT TEMPO.DATA, \n",
    "#        FATO.IDNOTA AS INVOICE, \n",
    "#        CLIENTE.NOME AS CLIENTE, \n",
    "#        PRODUTO.NOME AS PRODUTO, \n",
    "#        CAT.NOME AS CATEGORIA, \n",
    "#        FORNECEDOR.NOME AS FORNECEDOR, \n",
    "#        VENDEDOR.NOME AS VENDEDOR, \n",
    "#        FORMAPAG.FORMA AS FORMAPAG, \n",
    "#        FATO.QUANTIDADE, \n",
    "#        FATO.TOTAL_ITEM, \n",
    "#        FATO.CUSTO_TOTAL, \n",
    "#        FATO.LUCRO_TOTAL \n",
    "# FROM FATO FATO\n",
    "# INNER JOIN DIM_CLIENTE CLIENTE ON FATO.IDCLIENTE = CLIENTE.IDCLIENTE\n",
    "# INNER JOIN DIM_PRODUTO PRODUTO ON FATO.IDPRODUTO = PRODUTO.IDPRODUTO\n",
    "# INNER JOIN DIM_VENDEDOR VENDEDOR ON FATO.IDVENDEDOR = VENDEDOR.IDVENDEDOR\n",
    "# INNER JOIN CATEGORIA CAT ON PRODUTO.ID_CATEGORIA = CAT.IDCATEGORIA\n",
    "# INNER JOIN DIM_FORNECEDOR FORNECEDOR ON FATO.IDFORNECEDOR = FORNECEDOR.IDFORNECEDOR\n",
    "# INNER JOIN DIM_TEMPO TEMPO ON FATO.IDTEMPO = TEMPO.IDSK\n",
    "# INNER JOIN DIM_FORMA FORMAPAG ON FATO.IDFORMA = FORMAPAG.IDFORMA\n",
    "\n",
    "\n",
    "df_fato = pd.read_sql_query('SELECT * FROM PIPELINE_FATO',conn)\n",
    "\n",
    "# Realizamos a query e gravamos os resultados em um dataframe 'df_fato'.\n",
    "print(df_fato.head(20))"
   ]
  },
  {
   "cell_type": "code",
   "execution_count": 6,
   "metadata": {},
   "outputs": [
    {
     "data": {
      "text/plain": [
       "Index(['DATA', 'INVOICE', 'CLIENTE', 'PRODUTO', 'CATEGORIA', 'FORNECEDOR', 'VENDEDOR', 'FORMAPAG',\n",
       "       'QUANTIDADE', 'TOTAL_ITEM', 'CUSTO_TOTAL', 'LUCRO_TOTAL'],\n",
       "      dtype='object')"
      ]
     },
     "execution_count": 6,
     "metadata": {},
     "output_type": "execute_result"
    }
   ],
   "source": [
    "# Verificamsos as colunas do dataframe.\n",
    "\n",
    "df_fato.columns"
   ]
  },
  {
   "cell_type": "code",
   "execution_count": 7,
   "metadata": {},
   "outputs": [
    {
     "data": {
      "text/plain": [
       "(30784, 12)"
      ]
     },
     "execution_count": 7,
     "metadata": {},
     "output_type": "execute_result"
    }
   ],
   "source": [
    "# Verificamos o tamanho do dataframe por um shape.\n",
    "\n",
    "df_fato.shape"
   ]
  },
  {
   "cell_type": "markdown",
   "metadata": {},
   "source": [
    "# FEATURE ENGINEERING"
   ]
  },
  {
   "cell_type": "code",
   "execution_count": 8,
   "metadata": {},
   "outputs": [],
   "source": [
    "# Realizamos uma cópia do dataframe original para podermos trabalhar melhor com modificações, preservando a integridade\n",
    "# dos dados originais.\n",
    "\n",
    "data1 = df_fato.copy()"
   ]
  },
  {
   "cell_type": "code",
   "execution_count": 9,
   "metadata": {
    "scrolled": true
   },
   "outputs": [
    {
     "name": "stdout",
     "output_type": "stream",
     "text": [
      "<class 'pandas.core.frame.DataFrame'>\n",
      "RangeIndex: 30784 entries, 0 to 30783\n",
      "Data columns (total 12 columns):\n",
      " #   Column       Non-Null Count  Dtype  \n",
      "---  ------       --------------  -----  \n",
      " 0   DATA         30784 non-null  object \n",
      " 1   INVOICE      30784 non-null  int64  \n",
      " 2   CLIENTE      30784 non-null  object \n",
      " 3   PRODUTO      30784 non-null  object \n",
      " 4   CATEGORIA    30784 non-null  object \n",
      " 5   FORNECEDOR   30784 non-null  object \n",
      " 6   VENDEDOR     30784 non-null  object \n",
      " 7   FORMAPAG     30784 non-null  object \n",
      " 8   QUANTIDADE   30784 non-null  int64  \n",
      " 9   TOTAL_ITEM   30784 non-null  float64\n",
      " 10  CUSTO_TOTAL  30784 non-null  float64\n",
      " 11  LUCRO_TOTAL  30784 non-null  float64\n",
      "dtypes: float64(3), int64(2), object(7)\n",
      "memory usage: 2.8+ MB\n"
     ]
    }
   ],
   "source": [
    "# Buscamos por valores não nulos e a tipagem das colunas.\n",
    "# Podemos ver que a coluna 'DATA' está como object e será transformada para tipo date. E a coluna 'INVOCIE' está como \n",
    "#tipo int, e será transformada em str, pois esta não se trata de uma feature numérica e sim string.\n",
    "\n",
    "data1.info()"
   ]
  },
  {
   "cell_type": "code",
   "execution_count": 10,
   "metadata": {
    "scrolled": false
   },
   "outputs": [
    {
     "name": "stdout",
     "output_type": "stream",
     "text": [
      "             DATA  INVOICE          CLIENTE            PRODUTO         CATEGORIA  \\\n",
      "0      2017-01-01      288       Alex Souza     Poderoso Chefe              DVDS   \n",
      "1      2017-01-01      288       Alex Souza              Wario             GAMES   \n",
      "2      2017-01-01     3069       Luan Rocha      Exchange 2014            LIVROS   \n",
      "3      2017-01-01     3069       Luan Rocha         Xtg Rad D3       INFORMATICA   \n",
      "4      2017-01-01     3870      Kauê Santos   Notebook Msft 17       INFORMATICA   \n",
      "...           ...      ...              ...                ...               ...   \n",
      "30779  2020-12-27    17015      Bruno Sousa      Desktop A5 Hp       INFORMATICA   \n",
      "30780  2020-12-27    18767       Ana Santos      Cartoon Movie             GAMES   \n",
      "30781  2020-12-27    18925    Breno Correia  Sao Paulo / Miami         PASSAGENS   \n",
      "30782  2020-12-27    19481  Melissa Azevedo    Lavadora Lg 10l  ELETRODOMESTICOS   \n",
      "30783  2020-12-27    16800  Estevan Barbosa     Poderoso Chefe              DVDS   \n",
      "\n",
      "                  FORNECEDOR         VENDEDOR                  FORMAPAG  QUANTIDADE  TOTAL_ITEM  \\\n",
      "0          STUDIOS HOLLYWOOD      CLARA MAFRA     Cartão Master 4 vezes           2       196.0   \n",
      "1              BILLZAR GAMES      CLARA MAFRA     Cartão Master 4 vezes           2       290.0   \n",
      "2                  MICROSOFT  TERESA CRISTINA  Cartão American 10 vezes           4       520.0   \n",
      "3                     GFORCE  TERESA CRISTINA  Cartão American 10 vezes           2      1400.0   \n",
      "4                  MICROSOFT   DEBORA ALMEIDA          Pay Pall - Vista           3      9300.0   \n",
      "...                      ...              ...                       ...         ...         ...   \n",
      "30779                     HP  RENATA MONTEIRO            Boleto - Vista           2      2600.0   \n",
      "30780          BILLZAR GAMES   SILVIO BAHIANA  Cartão Visa - Vencimento           1        99.0   \n",
      "30781  AMERICA LINES EXPRESS  WALLACE MOREIRA      Cartão Visa 10 vezes           3      6900.0   \n",
      "30782                     LG  RENATA MONTEIRO       Cartão Visa 4 vezes           3      8400.0   \n",
      "30783      STUDIOS HOLLYWOOD  RENATA MONTEIRO      Cartão Visa 10 vezes           4       392.0   \n",
      "\n",
      "       CUSTO_TOTAL  LUCRO_TOTAL  \n",
      "0             92.0        104.0  \n",
      "1            156.0        134.0  \n",
      "2            360.0        160.0  \n",
      "3            978.0        422.0  \n",
      "4           8100.0       1200.0  \n",
      "...            ...          ...  \n",
      "30779       1780.0        820.0  \n",
      "30780         34.0         65.0  \n",
      "30781       6468.0        432.0  \n",
      "30782       6558.0       1842.0  \n",
      "30783        184.0        208.0  \n",
      "\n",
      "[30784 rows x 12 columns]\n"
     ]
    }
   ],
   "source": [
    "# Transformamos a coluna 'INVOICE' em tipo string.\n",
    "\n",
    "data1['INVOICE'] = data1['INVOICE'].astype('str')\n",
    "\n",
    "print(df_fato)"
   ]
  },
  {
   "cell_type": "code",
   "execution_count": 11,
   "metadata": {
    "scrolled": false
   },
   "outputs": [
    {
     "name": "stdout",
     "output_type": "stream",
     "text": [
      "<class 'pandas.core.frame.DataFrame'>\n",
      "RangeIndex: 30784 entries, 0 to 30783\n",
      "Data columns (total 12 columns):\n",
      " #   Column       Non-Null Count  Dtype  \n",
      "---  ------       --------------  -----  \n",
      " 0   DATA         30784 non-null  object \n",
      " 1   INVOICE      30784 non-null  object \n",
      " 2   CLIENTE      30784 non-null  object \n",
      " 3   PRODUTO      30784 non-null  object \n",
      " 4   CATEGORIA    30784 non-null  object \n",
      " 5   FORNECEDOR   30784 non-null  object \n",
      " 6   VENDEDOR     30784 non-null  object \n",
      " 7   FORMAPAG     30784 non-null  object \n",
      " 8   QUANTIDADE   30784 non-null  int64  \n",
      " 9   TOTAL_ITEM   30784 non-null  float64\n",
      " 10  CUSTO_TOTAL  30784 non-null  float64\n",
      " 11  LUCRO_TOTAL  30784 non-null  float64\n",
      "dtypes: float64(3), int64(1), object(8)\n",
      "memory usage: 2.8+ MB\n"
     ]
    }
   ],
   "source": [
    "# Verificamos novamente os tipo do dataframe e constatamos a transformação da coluna 'INVOICE'.\n",
    "\n",
    "data1.info()"
   ]
  },
  {
   "cell_type": "code",
   "execution_count": 12,
   "metadata": {},
   "outputs": [],
   "source": [
    "# Transformamos a coluna 'DATA' em tipo datetime.\n",
    "\n",
    "data1['DATA'] = pd.to_datetime(data1['DATA'])"
   ]
  },
  {
   "cell_type": "code",
   "execution_count": 13,
   "metadata": {},
   "outputs": [
    {
     "name": "stdout",
     "output_type": "stream",
     "text": [
      "<class 'pandas.core.frame.DataFrame'>\n",
      "RangeIndex: 30784 entries, 0 to 30783\n",
      "Data columns (total 12 columns):\n",
      " #   Column       Non-Null Count  Dtype         \n",
      "---  ------       --------------  -----         \n",
      " 0   DATA         30784 non-null  datetime64[ns]\n",
      " 1   INVOICE      30784 non-null  object        \n",
      " 2   CLIENTE      30784 non-null  object        \n",
      " 3   PRODUTO      30784 non-null  object        \n",
      " 4   CATEGORIA    30784 non-null  object        \n",
      " 5   FORNECEDOR   30784 non-null  object        \n",
      " 6   VENDEDOR     30784 non-null  object        \n",
      " 7   FORMAPAG     30784 non-null  object        \n",
      " 8   QUANTIDADE   30784 non-null  int64         \n",
      " 9   TOTAL_ITEM   30784 non-null  float64       \n",
      " 10  CUSTO_TOTAL  30784 non-null  float64       \n",
      " 11  LUCRO_TOTAL  30784 non-null  float64       \n",
      "dtypes: datetime64[ns](1), float64(3), int64(1), object(7)\n",
      "memory usage: 2.8+ MB\n"
     ]
    }
   ],
   "source": [
    "# Verificamos e constatamos a transformação, com a coluna DATA em tipo datetime.\n",
    "\n",
    "data1.info()"
   ]
  },
  {
   "cell_type": "code",
   "execution_count": 14,
   "metadata": {},
   "outputs": [
    {
     "name": "stdout",
     "output_type": "stream",
     "text": [
      "            DATA INVOICE          CLIENTE            PRODUTO         CATEGORIA  \\\n",
      "0     2017-01-01     288       Alex Souza     Poderoso Chefe              DVDS   \n",
      "1     2017-01-01     288       Alex Souza              Wario             GAMES   \n",
      "2     2017-01-01    3069       Luan Rocha      Exchange 2014            LIVROS   \n",
      "3     2017-01-01    3069       Luan Rocha         Xtg Rad D3       INFORMATICA   \n",
      "4     2017-01-01    3870      Kauê Santos   Notebook Msft 17       INFORMATICA   \n",
      "...          ...     ...              ...                ...               ...   \n",
      "30779 2020-12-27   17015      Bruno Sousa      Desktop A5 Hp       INFORMATICA   \n",
      "30780 2020-12-27   18767       Ana Santos      Cartoon Movie             GAMES   \n",
      "30781 2020-12-27   18925    Breno Correia  Sao Paulo / Miami         PASSAGENS   \n",
      "30782 2020-12-27   19481  Melissa Azevedo    Lavadora Lg 10l  ELETRODOMESTICOS   \n",
      "30783 2020-12-27   16800  Estevan Barbosa     Poderoso Chefe              DVDS   \n",
      "\n",
      "                  FORNECEDOR         VENDEDOR                  FORMAPAG  QUANTIDADE  TOTAL_ITEM  \\\n",
      "0          STUDIOS HOLLYWOOD      CLARA MAFRA     Cartão Master 4 vezes           2       196.0   \n",
      "1              BILLZAR GAMES      CLARA MAFRA     Cartão Master 4 vezes           2       290.0   \n",
      "2                  MICROSOFT  TERESA CRISTINA  Cartão American 10 vezes           4       520.0   \n",
      "3                     GFORCE  TERESA CRISTINA  Cartão American 10 vezes           2      1400.0   \n",
      "4                  MICROSOFT   DEBORA ALMEIDA          Pay Pall - Vista           3      9300.0   \n",
      "...                      ...              ...                       ...         ...         ...   \n",
      "30779                     HP  RENATA MONTEIRO            Boleto - Vista           2      2600.0   \n",
      "30780          BILLZAR GAMES   SILVIO BAHIANA  Cartão Visa - Vencimento           1        99.0   \n",
      "30781  AMERICA LINES EXPRESS  WALLACE MOREIRA      Cartão Visa 10 vezes           3      6900.0   \n",
      "30782                     LG  RENATA MONTEIRO       Cartão Visa 4 vezes           3      8400.0   \n",
      "30783      STUDIOS HOLLYWOOD  RENATA MONTEIRO      Cartão Visa 10 vezes           4       392.0   \n",
      "\n",
      "       CUSTO_TOTAL  LUCRO_TOTAL   ANO  MES  \n",
      "0             92.0        104.0  2017    1  \n",
      "1            156.0        134.0  2017    1  \n",
      "2            360.0        160.0  2017    1  \n",
      "3            978.0        422.0  2017    1  \n",
      "4           8100.0       1200.0  2017    1  \n",
      "...            ...          ...   ...  ...  \n",
      "30779       1780.0        820.0  2020   12  \n",
      "30780         34.0         65.0  2020   12  \n",
      "30781       6468.0        432.0  2020   12  \n",
      "30782       6558.0       1842.0  2020   12  \n",
      "30783        184.0        208.0  2020   12  \n",
      "\n",
      "[30784 rows x 14 columns]\n"
     ]
    }
   ],
   "source": [
    "# Criamos duas features para auxiliar a data, segregando o mes e ano da coluna 'DATA' de suas respectivas datas.\n",
    "\n",
    "data1['ANO'] = data1['DATA'].dt.year\n",
    "data1['MES'] = data1['DATA'].dt.month\n",
    "\n",
    "print(data1)"
   ]
  },
  {
   "cell_type": "code",
   "execution_count": 15,
   "metadata": {},
   "outputs": [],
   "source": [
    "# Transformando as features 'ANO' e 'MES', em string.\n",
    "\n",
    "data1['ANO'] = data1['ANO'].astype('str')\n",
    "data1['MES'] = data1['MES'].astype('str')"
   ]
  },
  {
   "cell_type": "code",
   "execution_count": 16,
   "metadata": {},
   "outputs": [
    {
     "name": "stdout",
     "output_type": "stream",
     "text": [
      "<class 'pandas.core.frame.DataFrame'>\n",
      "RangeIndex: 30784 entries, 0 to 30783\n",
      "Data columns (total 14 columns):\n",
      " #   Column       Non-Null Count  Dtype         \n",
      "---  ------       --------------  -----         \n",
      " 0   DATA         30784 non-null  datetime64[ns]\n",
      " 1   INVOICE      30784 non-null  object        \n",
      " 2   CLIENTE      30784 non-null  object        \n",
      " 3   PRODUTO      30784 non-null  object        \n",
      " 4   CATEGORIA    30784 non-null  object        \n",
      " 5   FORNECEDOR   30784 non-null  object        \n",
      " 6   VENDEDOR     30784 non-null  object        \n",
      " 7   FORMAPAG     30784 non-null  object        \n",
      " 8   QUANTIDADE   30784 non-null  int64         \n",
      " 9   TOTAL_ITEM   30784 non-null  float64       \n",
      " 10  CUSTO_TOTAL  30784 non-null  float64       \n",
      " 11  LUCRO_TOTAL  30784 non-null  float64       \n",
      " 12  ANO          30784 non-null  object        \n",
      " 13  MES          30784 non-null  object        \n",
      "dtypes: datetime64[ns](1), float64(3), int64(1), object(9)\n",
      "memory usage: 3.3+ MB\n"
     ]
    }
   ],
   "source": [
    "data1.info()"
   ]
  },
  {
   "cell_type": "code",
   "execution_count": 17,
   "metadata": {},
   "outputs": [
    {
     "name": "stdout",
     "output_type": "stream",
     "text": [
      "            DATA INVOICE          CLIENTE            PRODUTO         CATEGORIA  \\\n",
      "0     2017-01-01     288       Alex Souza     Poderoso Chefe              DVDS   \n",
      "1     2017-01-01     288       Alex Souza              Wario             GAMES   \n",
      "2     2017-01-01    3069       Luan Rocha      Exchange 2014            LIVROS   \n",
      "3     2017-01-01    3069       Luan Rocha         Xtg Rad D3       INFORMATICA   \n",
      "4     2017-01-01    3870      Kauê Santos   Notebook Msft 17       INFORMATICA   \n",
      "...          ...     ...              ...                ...               ...   \n",
      "30779 2020-12-27   17015      Bruno Sousa      Desktop A5 Hp       INFORMATICA   \n",
      "30780 2020-12-27   18767       Ana Santos      Cartoon Movie             GAMES   \n",
      "30781 2020-12-27   18925    Breno Correia  Sao Paulo / Miami         PASSAGENS   \n",
      "30782 2020-12-27   19481  Melissa Azevedo    Lavadora Lg 10l  ELETRODOMESTICOS   \n",
      "30783 2020-12-27   16800  Estevan Barbosa     Poderoso Chefe              DVDS   \n",
      "\n",
      "                  FORNECEDOR         VENDEDOR                  FORMAPAG  QUANTIDADE  TOTAL_ITEM  \\\n",
      "0          STUDIOS HOLLYWOOD      CLARA MAFRA     Cartão Master 4 vezes           2       196.0   \n",
      "1              BILLZAR GAMES      CLARA MAFRA     Cartão Master 4 vezes           2       290.0   \n",
      "2                  MICROSOFT  TERESA CRISTINA  Cartão American 10 vezes           4       520.0   \n",
      "3                     GFORCE  TERESA CRISTINA  Cartão American 10 vezes           2      1400.0   \n",
      "4                  MICROSOFT   DEBORA ALMEIDA          Pay Pall - Vista           3      9300.0   \n",
      "...                      ...              ...                       ...         ...         ...   \n",
      "30779                     HP  RENATA MONTEIRO            Boleto - Vista           2      2600.0   \n",
      "30780          BILLZAR GAMES   SILVIO BAHIANA  Cartão Visa - Vencimento           1        99.0   \n",
      "30781  AMERICA LINES EXPRESS  WALLACE MOREIRA      Cartão Visa 10 vezes           3      6900.0   \n",
      "30782                     LG  RENATA MONTEIRO       Cartão Visa 4 vezes           3      8400.0   \n",
      "30783      STUDIOS HOLLYWOOD  RENATA MONTEIRO      Cartão Visa 10 vezes           4       392.0   \n",
      "\n",
      "       CUSTO_TOTAL  LUCRO_TOTAL   ANO MES  \n",
      "0             92.0        104.0  2017   1  \n",
      "1            156.0        134.0  2017   1  \n",
      "2            360.0        160.0  2017   1  \n",
      "3            978.0        422.0  2017   1  \n",
      "4           8100.0       1200.0  2017   1  \n",
      "...            ...          ...   ...  ..  \n",
      "30779       1780.0        820.0  2020  12  \n",
      "30780         34.0         65.0  2020  12  \n",
      "30781       6468.0        432.0  2020  12  \n",
      "30782       6558.0       1842.0  2020  12  \n",
      "30783        184.0        208.0  2020  12  \n",
      "\n",
      "[30784 rows x 14 columns]\n"
     ]
    }
   ],
   "source": [
    "print(data1)"
   ]
  },
  {
   "cell_type": "markdown",
   "metadata": {},
   "source": [
    "# EXPLORATORY DATA ANALYSIS"
   ]
  },
  {
   "cell_type": "code",
   "execution_count": 18,
   "metadata": {
    "scrolled": true
   },
   "outputs": [
    {
     "data": {
      "text/plain": [
       "Index(['DATA', 'INVOICE', 'CLIENTE', 'PRODUTO', 'CATEGORIA', 'FORNECEDOR', 'VENDEDOR', 'FORMAPAG',\n",
       "       'QUANTIDADE', 'TOTAL_ITEM', 'CUSTO_TOTAL', 'LUCRO_TOTAL', 'ANO', 'MES'],\n",
       "      dtype='object')"
      ]
     },
     "execution_count": 18,
     "metadata": {},
     "output_type": "execute_result"
    }
   ],
   "source": [
    "# Verificamos as colunas do dataframe.\n",
    "\n",
    "data1.columns"
   ]
  },
  {
   "cell_type": "code",
   "execution_count": 19,
   "metadata": {
    "scrolled": false
   },
   "outputs": [
    {
     "data": {
      "text/plain": [
       "INVOICE       20000\n",
       "CLIENTE         891\n",
       "PRODUTO         226\n",
       "CATEGORIA         9\n",
       "FORNECEDOR       41\n",
       "VENDEDOR         24\n",
       "FORMAPAG         23\n",
       "dtype: int64"
      ]
     },
     "execution_count": 19,
     "metadata": {},
     "output_type": "execute_result"
    }
   ],
   "source": [
    "# Contamos os valores únicos de cada feature categórica. \n",
    "\n",
    "data1[['INVOICE','CLIENTE','PRODUTO','CATEGORIA','FORNECEDOR','VENDEDOR','FORMAPAG']].nunique()"
   ]
  },
  {
   "cell_type": "code",
   "execution_count": 20,
   "metadata": {
    "scrolled": true
   },
   "outputs": [
    {
     "data": {
      "text/html": [
       "<div>\n",
       "<style scoped>\n",
       "    .dataframe tbody tr th:only-of-type {\n",
       "        vertical-align: middle;\n",
       "    }\n",
       "\n",
       "    .dataframe tbody tr th {\n",
       "        vertical-align: top;\n",
       "    }\n",
       "\n",
       "    .dataframe thead th {\n",
       "        text-align: right;\n",
       "    }\n",
       "</style>\n",
       "<table border=\"1\" class=\"dataframe\">\n",
       "  <thead>\n",
       "    <tr style=\"text-align: right;\">\n",
       "      <th></th>\n",
       "      <th>QUANTIDADE</th>\n",
       "      <th>TOTAL_ITEM</th>\n",
       "      <th>CUSTO_TOTAL</th>\n",
       "      <th>LUCRO_TOTAL</th>\n",
       "    </tr>\n",
       "  </thead>\n",
       "  <tbody>\n",
       "    <tr>\n",
       "      <th>count</th>\n",
       "      <td>30784.00000</td>\n",
       "      <td>30784.00000</td>\n",
       "      <td>30784.00000</td>\n",
       "      <td>30784.00000</td>\n",
       "    </tr>\n",
       "    <tr>\n",
       "      <th>mean</th>\n",
       "      <td>2.21459</td>\n",
       "      <td>2174.80009</td>\n",
       "      <td>1603.29223</td>\n",
       "      <td>571.50786</td>\n",
       "    </tr>\n",
       "    <tr>\n",
       "      <th>std</th>\n",
       "      <td>1.04102</td>\n",
       "      <td>3007.65300</td>\n",
       "      <td>2421.91192</td>\n",
       "      <td>783.41547</td>\n",
       "    </tr>\n",
       "    <tr>\n",
       "      <th>min</th>\n",
       "      <td>1.00000</td>\n",
       "      <td>24.00000</td>\n",
       "      <td>10.00000</td>\n",
       "      <td>11.00000</td>\n",
       "    </tr>\n",
       "    <tr>\n",
       "      <th>25%</th>\n",
       "      <td>1.00000</td>\n",
       "      <td>234.00000</td>\n",
       "      <td>120.00000</td>\n",
       "      <td>79.00000</td>\n",
       "    </tr>\n",
       "    <tr>\n",
       "      <th>50%</th>\n",
       "      <td>2.00000</td>\n",
       "      <td>780.00000</td>\n",
       "      <td>480.00000</td>\n",
       "      <td>240.00000</td>\n",
       "    </tr>\n",
       "    <tr>\n",
       "      <th>75%</th>\n",
       "      <td>3.00000</td>\n",
       "      <td>3000.00000</td>\n",
       "      <td>2030.00000</td>\n",
       "      <td>798.00000</td>\n",
       "    </tr>\n",
       "    <tr>\n",
       "      <th>max</th>\n",
       "      <td>4.00000</td>\n",
       "      <td>21600.00000</td>\n",
       "      <td>20080.00000</td>\n",
       "      <td>7204.00000</td>\n",
       "    </tr>\n",
       "  </tbody>\n",
       "</table>\n",
       "</div>"
      ],
      "text/plain": [
       "        QUANTIDADE   TOTAL_ITEM  CUSTO_TOTAL  LUCRO_TOTAL\n",
       "count  30784.00000  30784.00000  30784.00000  30784.00000\n",
       "mean       2.21459   2174.80009   1603.29223    571.50786\n",
       "std        1.04102   3007.65300   2421.91192    783.41547\n",
       "min        1.00000     24.00000     10.00000     11.00000\n",
       "25%        1.00000    234.00000    120.00000     79.00000\n",
       "50%        2.00000    780.00000    480.00000    240.00000\n",
       "75%        3.00000   3000.00000   2030.00000    798.00000\n",
       "max        4.00000  21600.00000  20080.00000   7204.00000"
      ]
     },
     "execution_count": 20,
     "metadata": {},
     "output_type": "execute_result"
    }
   ],
   "source": [
    "# Extraímos os dados estatísticos das features numéricas. \n",
    "\n",
    "data1.describe()"
   ]
  },
  {
   "cell_type": "markdown",
   "metadata": {},
   "source": [
    "## EDA - PRODUTO / CATEGORIA"
   ]
  },
  {
   "cell_type": "code",
   "execution_count": 21,
   "metadata": {
    "scrolled": true
   },
   "outputs": [
    {
     "data": {
      "text/plain": [
       "CATEGORIA\n",
       "CELULARES           23\n",
       "DVDS                20\n",
       "ELETRODOMESTICOS    19\n",
       "GAMES               22\n",
       "INFORMATICA         73\n",
       "LIVROS              15\n",
       "MOVEIS               9\n",
       "PASSAGENS           21\n",
       "TV E AUDIO          24\n",
       "Name: PRODUTO, dtype: int64"
      ]
     },
     "execution_count": 21,
     "metadata": {},
     "output_type": "execute_result"
    }
   ],
   "source": [
    "# Contamos as entradas únicas de produto por cada categoria.\n",
    "\n",
    "data1['PRODUTO'].groupby(data1['CATEGORIA']).nunique()"
   ]
  },
  {
   "cell_type": "code",
   "execution_count": 22,
   "metadata": {
    "scrolled": true
   },
   "outputs": [
    {
     "data": {
      "text/plain": [
       "<AxesSubplot:title={'center':'TOTAL DE PRODUTOS POR CATEGORIA'}, ylabel='PRODUTO'>"
      ]
     },
     "execution_count": 22,
     "metadata": {},
     "output_type": "execute_result"
    },
    {
     "data": {
      "image/png": "[encoded data removed]",
      "text/plain": [
       "<Figure size 576x360 with 1 Axes>"
      ]
     },
     "metadata": {},
     "output_type": "display_data"
    }
   ],
   "source": [
    "# Plotamos em um gráficos de pizza a distribuição dos produtos por categoria. \n",
    "\n",
    "data1['PRODUTO'].groupby(data1['CATEGORIA']).nunique().plot(kind='pie', title='TOTAL DE PRODUTOS POR CATEGORIA', \n",
    "                                                              xlabel ='CATEGORIA', figsize=(8,5))"
   ]
  },
  {
   "cell_type": "markdown",
   "metadata": {},
   "source": [
    "## EDA - NOTAS POR FORMA DE PAGAMENTO"
   ]
  },
  {
   "cell_type": "code",
   "execution_count": 23,
   "metadata": {
    "scrolled": false
   },
   "outputs": [
    {
     "data": {
      "text/plain": [
       "FORMAPAG\n",
       "Boleto - Vista                   762\n",
       "Cartão American - Vencimento     759\n",
       "Cartão American 10 vezes         768\n",
       "Cartão American 12 vezes         802\n",
       "Cartão American 5 vezes          775\n",
       "Cartão Master - Vencimento       726\n",
       "Cartão Master 10 vezes           796\n",
       "Cartão Master 2 vezes            791\n",
       "Cartão Master 3 vezes            743\n",
       "Cartão Master 4 vezes            758\n",
       "Cartão Master 5 vezes            786\n",
       "Cartão Visa - Vencimento         792\n",
       "Cartão Visa 10 vezes             803\n",
       "Cartão Visa 2 vezes             1518\n",
       "Cartão Visa 3 vezes             1574\n",
       "Cartão Visa 4 vezes             1465\n",
       "Cartão Visa 5 vezes              755\n",
       "Depósito - Vista                 790\n",
       "Pagamento Seguro Web - Vista     764\n",
       "Pay Pall - 12 vezes              794\n",
       "Pay Pall - 5 vezes               732\n",
       "Pay Pall - Vista                 793\n",
       "Tranferência - Vista             754\n",
       "Name: INVOICE, dtype: int64"
      ]
     },
     "execution_count": 23,
     "metadata": {},
     "output_type": "execute_result"
    }
   ],
   "source": [
    "# Contamos quantas notas de compra (INVOICE) distinta temos utilizada cada forma de pagamento (FORMAPAG).\n",
    "\n",
    "data1['INVOICE'].groupby(data1['FORMAPAG']).nunique()"
   ]
  },
  {
   "cell_type": "code",
   "execution_count": 24,
   "metadata": {
    "scrolled": false
   },
   "outputs": [
    {
     "data": {
      "text/plain": [
       "<AxesSubplot:xlabel='FORMAPAG'>"
      ]
     },
     "execution_count": 24,
     "metadata": {},
     "output_type": "execute_result"
    },
    {
     "data": {
      "image/png": "[encoded data removed]",
      "text/plain": [
       "<Figure size 748.8x514.8 with 1 Axes>"
      ]
     },
     "metadata": {
      "needs_background": "light"
     },
     "output_type": "display_data"
    }
   ],
   "source": [
    "# Plotamos em um gráfico de barras a distribuição de forma de bagamentos.\n",
    "\n",
    "data1['INVOICE'].groupby(data1['FORMAPAG']).nunique().plot(kind='bar')"
   ]
  },
  {
   "cell_type": "code",
   "execution_count": 25,
   "metadata": {},
   "outputs": [
    {
     "data": {
      "text/plain": [
       "CATEGORIA\n",
       "CELULARES            3074\n",
       "DVDS                 2702\n",
       "ELETRODOMESTICOS     2514\n",
       "GAMES                2933\n",
       "INFORMATICA         10431\n",
       "LIVROS               2006\n",
       "MOVEIS               1217\n",
       "PASSAGENS            2831\n",
       "TV E AUDIO           3076\n",
       "Name: INVOICE, dtype: int64"
      ]
     },
     "execution_count": 25,
     "metadata": {},
     "output_type": "execute_result"
    }
   ],
   "source": [
    "# Verificamos a quantidade de vendas por cada categoria, considerando que uma mesma nota pode levar de 1 a n artigos. \n",
    "# Em outras palavras, esta função conta cada venda de cada categoria, sendo que 1 nota pode apresentar 2 ou mais artigos \n",
    "# da mesma categoria.\n",
    "\n",
    "data1['INVOICE'].groupby(data1['CATEGORIA']).count()"
   ]
  },
  {
   "cell_type": "code",
   "execution_count": 26,
   "metadata": {},
   "outputs": [
    {
     "data": {
      "text/plain": [
       "<AxesSubplot:title={'center':'TOTAL NOTAS POR CATEGORIA'}, xlabel='CATEGORIA'>"
      ]
     },
     "execution_count": 26,
     "metadata": {},
     "output_type": "execute_result"
    },
    {
     "data": {
      "image/png": "[encoded data removed]",
      "text/plain": [
       "<Figure size 576x360 with 1 Axes>"
      ]
     },
     "metadata": {
      "needs_background": "light"
     },
     "output_type": "display_data"
    }
   ],
   "source": [
    "# Plotamos a distribuição de quantidade de notas por cada categoria. \n",
    "\n",
    "data1['INVOICE'].groupby(data1['CATEGORIA']).count().plot(kind='bar', title='TOTAL NOTAS POR CATEGORIA', \n",
    "                                                              xlabel ='CATEGORIA', figsize=(8,5))"
   ]
  },
  {
   "cell_type": "markdown",
   "metadata": {},
   "source": [
    "## EDA - VENDAS POR CATEGORIA"
   ]
  },
  {
   "cell_type": "code",
   "execution_count": 27,
   "metadata": {
    "scrolled": false
   },
   "outputs": [
    {
     "data": {
      "text/html": [
       "<div>\n",
       "<style scoped>\n",
       "    .dataframe tbody tr th:only-of-type {\n",
       "        vertical-align: middle;\n",
       "    }\n",
       "\n",
       "    .dataframe tbody tr th {\n",
       "        vertical-align: top;\n",
       "    }\n",
       "\n",
       "    .dataframe thead th {\n",
       "        text-align: right;\n",
       "    }\n",
       "</style>\n",
       "<table border=\"1\" class=\"dataframe\">\n",
       "  <thead>\n",
       "    <tr style=\"text-align: right;\">\n",
       "      <th></th>\n",
       "      <th>TOTAL_ITEM</th>\n",
       "      <th>LUCRO_TOTAL</th>\n",
       "    </tr>\n",
       "    <tr>\n",
       "      <th>CATEGORIA</th>\n",
       "      <th></th>\n",
       "      <th></th>\n",
       "    </tr>\n",
       "  </thead>\n",
       "  <tbody>\n",
       "    <tr>\n",
       "      <th>CELULARES</th>\n",
       "      <td>6333874.0</td>\n",
       "      <td>2154946.0</td>\n",
       "    </tr>\n",
       "    <tr>\n",
       "      <th>DVDS</th>\n",
       "      <td>566304.0</td>\n",
       "      <td>247326.0</td>\n",
       "    </tr>\n",
       "    <tr>\n",
       "      <th>ELETRODOMESTICOS</th>\n",
       "      <td>8004991.0</td>\n",
       "      <td>1768005.0</td>\n",
       "    </tr>\n",
       "    <tr>\n",
       "      <th>GAMES</th>\n",
       "      <td>1580031.0</td>\n",
       "      <td>772081.0</td>\n",
       "    </tr>\n",
       "    <tr>\n",
       "      <th>INFORMATICA</th>\n",
       "      <td>21893839.0</td>\n",
       "      <td>7351751.0</td>\n",
       "    </tr>\n",
       "    <tr>\n",
       "      <th>LIVROS</th>\n",
       "      <td>357641.0</td>\n",
       "      <td>161895.0</td>\n",
       "    </tr>\n",
       "    <tr>\n",
       "      <th>MOVEIS</th>\n",
       "      <td>4082000.0</td>\n",
       "      <td>923843.0</td>\n",
       "    </tr>\n",
       "    <tr>\n",
       "      <th>PASSAGENS</th>\n",
       "      <td>7477640.0</td>\n",
       "      <td>825914.0</td>\n",
       "    </tr>\n",
       "    <tr>\n",
       "      <th>TV E AUDIO</th>\n",
       "      <td>16652726.0</td>\n",
       "      <td>3387537.0</td>\n",
       "    </tr>\n",
       "  </tbody>\n",
       "</table>\n",
       "</div>"
      ],
      "text/plain": [
       "                  TOTAL_ITEM  LUCRO_TOTAL\n",
       "CATEGORIA                                \n",
       "CELULARES          6333874.0    2154946.0\n",
       "DVDS                566304.0     247326.0\n",
       "ELETRODOMESTICOS   8004991.0    1768005.0\n",
       "GAMES              1580031.0     772081.0\n",
       "INFORMATICA       21893839.0    7351751.0\n",
       "LIVROS              357641.0     161895.0\n",
       "MOVEIS             4082000.0     923843.0\n",
       "PASSAGENS          7477640.0     825914.0\n",
       "TV E AUDIO        16652726.0    3387537.0"
      ]
     },
     "execution_count": 27,
     "metadata": {},
     "output_type": "execute_result"
    }
   ],
   "source": [
    "# Verificamos o total de vendas agregado por cada categoria, com a soma dos valores.\n",
    "\n",
    "data1.groupby(['CATEGORIA'])[['TOTAL_ITEM','LUCRO_TOTAL']].sum()"
   ]
  },
  {
   "cell_type": "code",
   "execution_count": 28,
   "metadata": {},
   "outputs": [
    {
     "data": {
      "text/plain": [
       "<AxesSubplot:title={'center':'VENDAS / LUCRO POR CATEGORIA'}, xlabel='CATEGORIA', ylabel='TOTAL'>"
      ]
     },
     "execution_count": 28,
     "metadata": {},
     "output_type": "execute_result"
    },
    {
     "data": {
      "image/png": "[encoded data removed]",
      "text/plain": [
       "<Figure size 576x360 with 1 Axes>"
      ]
     },
     "metadata": {
      "needs_background": "light"
     },
     "output_type": "display_data"
    }
   ],
   "source": [
    "# Plotamos as vendas e o lucro alcançado por cada categoria. \n",
    "\n",
    "data1.groupby(['CATEGORIA'])[['TOTAL_ITEM','LUCRO_TOTAL']].sum().plot(kind='bar', title='VENDAS / LUCRO POR CATEGORIA',\n",
    "                                                                       ylabel = 'TOTAL', figsize=(8,5))"
   ]
  },
  {
   "cell_type": "markdown",
   "metadata": {},
   "source": [
    "# HISTOGRAMS"
   ]
  },
  {
   "cell_type": "code",
   "execution_count": 29,
   "metadata": {
    "scrolled": false
   },
   "outputs": [
    {
     "data": {
      "text/plain": [
       "(array([1.7592e+04, 1.9860e+03, 3.4500e+02, 6.7000e+01, 1.0000e+01]),\n",
       " array([1.00000e+01, 6.34080e+03, 1.26716e+04, 1.90024e+04, 2.53332e+04,\n",
       "        3.16640e+04]),\n",
       " <BarContainer object of 5 artists>)"
      ]
     },
     "execution_count": 29,
     "metadata": {},
     "output_type": "execute_result"
    },
    {
     "data": {
      "image/png": "[encoded data removed]",
      "text/plain": [
       "<Figure size 748.8x514.8 with 1 Axes>"
      ]
     },
     "metadata": {
      "needs_background": "light"
     },
     "output_type": "display_data"
    }
   ],
   "source": [
    "# Distribuição do custo total agregado por notas (INVOICE).\n",
    "\n",
    "plt.hist(data1['CUSTO_TOTAL'].groupby(data1['INVOICE']).sum(), bins = 5)\n"
   ]
  },
  {
   "cell_type": "code",
   "execution_count": 30,
   "metadata": {
    "scrolled": false
   },
   "outputs": [
    {
     "data": {
      "text/plain": [
       "(array([16891.,  2467.,   530.,    95.,    17.]),\n",
       " array([2.40000e+01, 7.29920e+03, 1.45744e+04, 2.18496e+04, 2.91248e+04,\n",
       "        3.64000e+04]),\n",
       " <BarContainer object of 5 artists>)"
      ]
     },
     "execution_count": 30,
     "metadata": {},
     "output_type": "execute_result"
    },
    {
     "data": {
      "image/png": "[encoded data removed]",
      "text/plain": [
       "<Figure size 748.8x514.8 with 1 Axes>"
      ]
     },
     "metadata": {
      "needs_background": "light"
     },
     "output_type": "display_data"
    }
   ],
   "source": [
    "# Distribuição das vendas totais agregado por notas (INVOICE).\n",
    "\n",
    "plt.hist(data1['TOTAL_ITEM'].groupby(data1['INVOICE']).sum(), bins = 5)"
   ]
  },
  {
   "cell_type": "code",
   "execution_count": 31,
   "metadata": {
    "scrolled": false
   },
   "outputs": [
    {
     "data": {
      "text/plain": [
       "(array([1.8888e+04, 1.0260e+03, 7.8000e+01, 7.0000e+00, 1.0000e+00]),\n",
       " array([1.10000e+01, 3.11920e+03, 6.22740e+03, 9.33560e+03, 1.24438e+04,\n",
       "        1.55520e+04]),\n",
       " <BarContainer object of 5 artists>)"
      ]
     },
     "execution_count": 31,
     "metadata": {},
     "output_type": "execute_result"
    },
    {
     "data": {
      "image/png": "[encoded data removed]",
      "text/plain": [
       "<Figure size 748.8x514.8 with 1 Axes>"
      ]
     },
     "metadata": {
      "needs_background": "light"
     },
     "output_type": "display_data"
    }
   ],
   "source": [
    "# Distribuição do lucro total agregado por notas (INVOICE).\n",
    "\n",
    "plt.hist(data1['LUCRO_TOTAL'].groupby(data1['INVOICE']).sum(), bins = 5)"
   ]
  },
  {
   "cell_type": "markdown",
   "metadata": {},
   "source": [
    "# ANÁLISE TEMPORAL"
   ]
  },
  {
   "cell_type": "code",
   "execution_count": 32,
   "metadata": {},
   "outputs": [],
   "source": [
    "# Realizamos uma cópia do dataframe para trabalharmos exclusivamente com análise temporal.\n",
    "\n",
    "data_atemp = data1.copy()"
   ]
  },
  {
   "cell_type": "code",
   "execution_count": 33,
   "metadata": {
    "scrolled": false
   },
   "outputs": [
    {
     "data": {
      "text/plain": [
       "ANO\n",
       "2017    7738\n",
       "2018    7640\n",
       "2019    7755\n",
       "2020    7651\n",
       "Name: INVOICE, dtype: int64"
      ]
     },
     "execution_count": 33,
     "metadata": {},
     "output_type": "execute_result"
    }
   ],
   "source": [
    "# Contagem de vendas agregadas por cada ano.\n",
    "\n",
    "data_atemp['INVOICE'].groupby(data_atemp['ANO']).count()"
   ]
  },
  {
   "cell_type": "code",
   "execution_count": 34,
   "metadata": {
    "scrolled": false
   },
   "outputs": [
    {
     "data": {
      "text/plain": [
       "<AxesSubplot:title={'center':'QUANTIDADE DE VENDAS POR ANO'}, xlabel='ANO'>"
      ]
     },
     "execution_count": 34,
     "metadata": {},
     "output_type": "execute_result"
    },
    {
     "data": {
      "image/png": "[encoded data removed]",
      "text/plain": [
       "<Figure size 576x360 with 1 Axes>"
      ]
     },
     "metadata": {
      "needs_background": "light"
     },
     "output_type": "display_data"
    }
   ],
   "source": [
    "# Evolução de vendas ao longo dos anos\n",
    "\n",
    "data_atemp['INVOICE'].groupby(data_atemp['ANO']).count().plot.line(ylim = (7600,7800), title='QUANTIDADE DE VENDAS POR ANO', \n",
    "                                                              xlabel ='ANO', figsize=(8,5))"
   ]
  },
  {
   "cell_type": "code",
   "execution_count": 35,
   "metadata": {
    "scrolled": true
   },
   "outputs": [
    {
     "data": {
      "text/html": [
       "<div>\n",
       "<style scoped>\n",
       "    .dataframe tbody tr th:only-of-type {\n",
       "        vertical-align: middle;\n",
       "    }\n",
       "\n",
       "    .dataframe tbody tr th {\n",
       "        vertical-align: top;\n",
       "    }\n",
       "\n",
       "    .dataframe thead th {\n",
       "        text-align: right;\n",
       "    }\n",
       "</style>\n",
       "<table border=\"1\" class=\"dataframe\">\n",
       "  <thead>\n",
       "    <tr style=\"text-align: right;\">\n",
       "      <th>ANO</th>\n",
       "      <th>2017</th>\n",
       "      <th>2018</th>\n",
       "      <th>2019</th>\n",
       "      <th>2020</th>\n",
       "    </tr>\n",
       "    <tr>\n",
       "      <th>CATEGORIA</th>\n",
       "      <th></th>\n",
       "      <th></th>\n",
       "      <th></th>\n",
       "      <th></th>\n",
       "    </tr>\n",
       "  </thead>\n",
       "  <tbody>\n",
       "    <tr>\n",
       "      <th>CELULARES</th>\n",
       "      <td>1538960.0</td>\n",
       "      <td>1583748.0</td>\n",
       "      <td>1729431.0</td>\n",
       "      <td>1481735.0</td>\n",
       "    </tr>\n",
       "    <tr>\n",
       "      <th>DVDS</th>\n",
       "      <td>134840.0</td>\n",
       "      <td>137413.0</td>\n",
       "      <td>146301.0</td>\n",
       "      <td>147750.0</td>\n",
       "    </tr>\n",
       "    <tr>\n",
       "      <th>ELETRODOMESTICOS</th>\n",
       "      <td>1752407.0</td>\n",
       "      <td>2056837.0</td>\n",
       "      <td>2191208.0</td>\n",
       "      <td>2004539.0</td>\n",
       "    </tr>\n",
       "    <tr>\n",
       "      <th>GAMES</th>\n",
       "      <td>375372.0</td>\n",
       "      <td>396239.0</td>\n",
       "      <td>385164.0</td>\n",
       "      <td>423256.0</td>\n",
       "    </tr>\n",
       "    <tr>\n",
       "      <th>INFORMATICA</th>\n",
       "      <td>5504111.0</td>\n",
       "      <td>5418001.0</td>\n",
       "      <td>5393778.0</td>\n",
       "      <td>5577949.0</td>\n",
       "    </tr>\n",
       "    <tr>\n",
       "      <th>LIVROS</th>\n",
       "      <td>96885.0</td>\n",
       "      <td>86368.0</td>\n",
       "      <td>88578.0</td>\n",
       "      <td>85810.0</td>\n",
       "    </tr>\n",
       "    <tr>\n",
       "      <th>MOVEIS</th>\n",
       "      <td>984400.0</td>\n",
       "      <td>1016500.0</td>\n",
       "      <td>1060200.0</td>\n",
       "      <td>1020900.0</td>\n",
       "    </tr>\n",
       "    <tr>\n",
       "      <th>PASSAGENS</th>\n",
       "      <td>1903660.0</td>\n",
       "      <td>1943170.0</td>\n",
       "      <td>1717070.0</td>\n",
       "      <td>1913740.0</td>\n",
       "    </tr>\n",
       "    <tr>\n",
       "      <th>TV E AUDIO</th>\n",
       "      <td>4280145.0</td>\n",
       "      <td>4007899.0</td>\n",
       "      <td>4164844.0</td>\n",
       "      <td>4199838.0</td>\n",
       "    </tr>\n",
       "  </tbody>\n",
       "</table>\n",
       "</div>"
      ],
      "text/plain": [
       "ANO                    2017       2018       2019       2020\n",
       "CATEGORIA                                                   \n",
       "CELULARES         1538960.0  1583748.0  1729431.0  1481735.0\n",
       "DVDS               134840.0   137413.0   146301.0   147750.0\n",
       "ELETRODOMESTICOS  1752407.0  2056837.0  2191208.0  2004539.0\n",
       "GAMES              375372.0   396239.0   385164.0   423256.0\n",
       "INFORMATICA       5504111.0  5418001.0  5393778.0  5577949.0\n",
       "LIVROS              96885.0    86368.0    88578.0    85810.0\n",
       "MOVEIS             984400.0  1016500.0  1060200.0  1020900.0\n",
       "PASSAGENS         1903660.0  1943170.0  1717070.0  1913740.0\n",
       "TV E AUDIO        4280145.0  4007899.0  4164844.0  4199838.0"
      ]
     },
     "execution_count": 35,
     "metadata": {},
     "output_type": "execute_result"
    }
   ],
   "source": [
    "# Pivot de Vendas por Ano e Categoria\n",
    "\n",
    "data_atemp.groupby(['ANO', 'CATEGORIA'])['TOTAL_ITEM'].sum().unstack(0)"
   ]
  },
  {
   "cell_type": "code",
   "execution_count": 36,
   "metadata": {
    "scrolled": true
   },
   "outputs": [
    {
     "data": {
      "text/html": [
       "<div>\n",
       "<style scoped>\n",
       "    .dataframe tbody tr th:only-of-type {\n",
       "        vertical-align: middle;\n",
       "    }\n",
       "\n",
       "    .dataframe tbody tr th {\n",
       "        vertical-align: top;\n",
       "    }\n",
       "\n",
       "    .dataframe thead th {\n",
       "        text-align: right;\n",
       "    }\n",
       "</style>\n",
       "<table border=\"1\" class=\"dataframe\">\n",
       "  <thead>\n",
       "    <tr style=\"text-align: right;\">\n",
       "      <th>ANO</th>\n",
       "      <th>2017</th>\n",
       "      <th>2018</th>\n",
       "      <th>2019</th>\n",
       "      <th>2020</th>\n",
       "    </tr>\n",
       "    <tr>\n",
       "      <th>CATEGORIA</th>\n",
       "      <th></th>\n",
       "      <th></th>\n",
       "      <th></th>\n",
       "      <th></th>\n",
       "    </tr>\n",
       "  </thead>\n",
       "  <tbody>\n",
       "    <tr>\n",
       "      <th>CELULARES</th>\n",
       "      <td>737</td>\n",
       "      <td>810</td>\n",
       "      <td>789</td>\n",
       "      <td>738</td>\n",
       "    </tr>\n",
       "    <tr>\n",
       "      <th>DVDS</th>\n",
       "      <td>666</td>\n",
       "      <td>654</td>\n",
       "      <td>673</td>\n",
       "      <td>709</td>\n",
       "    </tr>\n",
       "    <tr>\n",
       "      <th>ELETRODOMESTICOS</th>\n",
       "      <td>651</td>\n",
       "      <td>624</td>\n",
       "      <td>638</td>\n",
       "      <td>601</td>\n",
       "    </tr>\n",
       "    <tr>\n",
       "      <th>GAMES</th>\n",
       "      <td>737</td>\n",
       "      <td>714</td>\n",
       "      <td>724</td>\n",
       "      <td>758</td>\n",
       "    </tr>\n",
       "    <tr>\n",
       "      <th>INFORMATICA</th>\n",
       "      <td>2599</td>\n",
       "      <td>2594</td>\n",
       "      <td>2680</td>\n",
       "      <td>2558</td>\n",
       "    </tr>\n",
       "    <tr>\n",
       "      <th>LIVROS</th>\n",
       "      <td>539</td>\n",
       "      <td>460</td>\n",
       "      <td>502</td>\n",
       "      <td>505</td>\n",
       "    </tr>\n",
       "    <tr>\n",
       "      <th>MOVEIS</th>\n",
       "      <td>290</td>\n",
       "      <td>301</td>\n",
       "      <td>319</td>\n",
       "      <td>307</td>\n",
       "    </tr>\n",
       "    <tr>\n",
       "      <th>PASSAGENS</th>\n",
       "      <td>730</td>\n",
       "      <td>727</td>\n",
       "      <td>670</td>\n",
       "      <td>704</td>\n",
       "    </tr>\n",
       "    <tr>\n",
       "      <th>TV E AUDIO</th>\n",
       "      <td>789</td>\n",
       "      <td>756</td>\n",
       "      <td>760</td>\n",
       "      <td>771</td>\n",
       "    </tr>\n",
       "  </tbody>\n",
       "</table>\n",
       "</div>"
      ],
      "text/plain": [
       "ANO               2017  2018  2019  2020\n",
       "CATEGORIA                               \n",
       "CELULARES          737   810   789   738\n",
       "DVDS               666   654   673   709\n",
       "ELETRODOMESTICOS   651   624   638   601\n",
       "GAMES              737   714   724   758\n",
       "INFORMATICA       2599  2594  2680  2558\n",
       "LIVROS             539   460   502   505\n",
       "MOVEIS             290   301   319   307\n",
       "PASSAGENS          730   727   670   704\n",
       "TV E AUDIO         789   756   760   771"
      ]
     },
     "execution_count": 36,
     "metadata": {},
     "output_type": "execute_result"
    }
   ],
   "source": [
    "# Pivot de contagem de vendas por Ano e Categoria.\n",
    "\n",
    "data_atemp.groupby(['ANO', 'CATEGORIA'])['TOTAL_ITEM'].count().unstack(0)"
   ]
  },
  {
   "cell_type": "code",
   "execution_count": 37,
   "metadata": {
    "scrolled": false
   },
   "outputs": [
    {
     "data": {
      "text/html": [
       "<div>\n",
       "<style scoped>\n",
       "    .dataframe tbody tr th:only-of-type {\n",
       "        vertical-align: middle;\n",
       "    }\n",
       "\n",
       "    .dataframe tbody tr th {\n",
       "        vertical-align: top;\n",
       "    }\n",
       "\n",
       "    .dataframe thead th {\n",
       "        text-align: right;\n",
       "    }\n",
       "</style>\n",
       "<table border=\"1\" class=\"dataframe\">\n",
       "  <thead>\n",
       "    <tr style=\"text-align: right;\">\n",
       "      <th>CATEGORIA</th>\n",
       "      <th>CELULARES</th>\n",
       "      <th>DVDS</th>\n",
       "      <th>ELETRODOMESTICOS</th>\n",
       "      <th>GAMES</th>\n",
       "      <th>INFORMATICA</th>\n",
       "      <th>LIVROS</th>\n",
       "      <th>MOVEIS</th>\n",
       "      <th>PASSAGENS</th>\n",
       "      <th>TV E AUDIO</th>\n",
       "    </tr>\n",
       "    <tr>\n",
       "      <th>ANO</th>\n",
       "      <th></th>\n",
       "      <th></th>\n",
       "      <th></th>\n",
       "      <th></th>\n",
       "      <th></th>\n",
       "      <th></th>\n",
       "      <th></th>\n",
       "      <th></th>\n",
       "      <th></th>\n",
       "    </tr>\n",
       "  </thead>\n",
       "  <tbody>\n",
       "    <tr>\n",
       "      <th>2017</th>\n",
       "      <td>1538960.0</td>\n",
       "      <td>134840.0</td>\n",
       "      <td>1752407.0</td>\n",
       "      <td>375372.0</td>\n",
       "      <td>5504111.0</td>\n",
       "      <td>96885.0</td>\n",
       "      <td>984400.0</td>\n",
       "      <td>1903660.0</td>\n",
       "      <td>4280145.0</td>\n",
       "    </tr>\n",
       "    <tr>\n",
       "      <th>2018</th>\n",
       "      <td>1583748.0</td>\n",
       "      <td>137413.0</td>\n",
       "      <td>2056837.0</td>\n",
       "      <td>396239.0</td>\n",
       "      <td>5418001.0</td>\n",
       "      <td>86368.0</td>\n",
       "      <td>1016500.0</td>\n",
       "      <td>1943170.0</td>\n",
       "      <td>4007899.0</td>\n",
       "    </tr>\n",
       "    <tr>\n",
       "      <th>2019</th>\n",
       "      <td>1729431.0</td>\n",
       "      <td>146301.0</td>\n",
       "      <td>2191208.0</td>\n",
       "      <td>385164.0</td>\n",
       "      <td>5393778.0</td>\n",
       "      <td>88578.0</td>\n",
       "      <td>1060200.0</td>\n",
       "      <td>1717070.0</td>\n",
       "      <td>4164844.0</td>\n",
       "    </tr>\n",
       "    <tr>\n",
       "      <th>2020</th>\n",
       "      <td>1481735.0</td>\n",
       "      <td>147750.0</td>\n",
       "      <td>2004539.0</td>\n",
       "      <td>423256.0</td>\n",
       "      <td>5577949.0</td>\n",
       "      <td>85810.0</td>\n",
       "      <td>1020900.0</td>\n",
       "      <td>1913740.0</td>\n",
       "      <td>4199838.0</td>\n",
       "    </tr>\n",
       "  </tbody>\n",
       "</table>\n",
       "</div>"
      ],
      "text/plain": [
       "CATEGORIA  CELULARES      DVDS  ELETRODOMESTICOS     GAMES  INFORMATICA   LIVROS     MOVEIS  \\\n",
       "ANO                                                                                           \n",
       "2017       1538960.0  134840.0         1752407.0  375372.0    5504111.0  96885.0   984400.0   \n",
       "2018       1583748.0  137413.0         2056837.0  396239.0    5418001.0  86368.0  1016500.0   \n",
       "2019       1729431.0  146301.0         2191208.0  385164.0    5393778.0  88578.0  1060200.0   \n",
       "2020       1481735.0  147750.0         2004539.0  423256.0    5577949.0  85810.0  1020900.0   \n",
       "\n",
       "CATEGORIA  PASSAGENS  TV E AUDIO  \n",
       "ANO                               \n",
       "2017       1903660.0   4280145.0  \n",
       "2018       1943170.0   4007899.0  \n",
       "2019       1717070.0   4164844.0  \n",
       "2020       1913740.0   4199838.0  "
      ]
     },
     "execution_count": 37,
     "metadata": {},
     "output_type": "execute_result"
    }
   ],
   "source": [
    "# Pivot de Vendas por Ano e Categoria. Um modo diferente de se apresentar os dados utilizando .unstack()\n",
    "\n",
    "data_atemp.groupby(['ANO', 'CATEGORIA'])['TOTAL_ITEM'].sum().unstack(1)"
   ]
  },
  {
   "cell_type": "code",
   "execution_count": 38,
   "metadata": {
    "scrolled": true
   },
   "outputs": [
    {
     "data": {
      "text/html": [
       "<div>\n",
       "<style scoped>\n",
       "    .dataframe tbody tr th:only-of-type {\n",
       "        vertical-align: middle;\n",
       "    }\n",
       "\n",
       "    .dataframe tbody tr th {\n",
       "        vertical-align: top;\n",
       "    }\n",
       "\n",
       "    .dataframe thead th {\n",
       "        text-align: right;\n",
       "    }\n",
       "</style>\n",
       "<table border=\"1\" class=\"dataframe\">\n",
       "  <thead>\n",
       "    <tr style=\"text-align: right;\">\n",
       "      <th>CATEGORIA</th>\n",
       "      <th>CELULARES</th>\n",
       "      <th>DVDS</th>\n",
       "      <th>ELETRODOMESTICOS</th>\n",
       "      <th>GAMES</th>\n",
       "      <th>INFORMATICA</th>\n",
       "      <th>LIVROS</th>\n",
       "      <th>MOVEIS</th>\n",
       "      <th>PASSAGENS</th>\n",
       "      <th>TV E AUDIO</th>\n",
       "    </tr>\n",
       "    <tr>\n",
       "      <th>ANO</th>\n",
       "      <th></th>\n",
       "      <th></th>\n",
       "      <th></th>\n",
       "      <th></th>\n",
       "      <th></th>\n",
       "      <th></th>\n",
       "      <th></th>\n",
       "      <th></th>\n",
       "      <th></th>\n",
       "    </tr>\n",
       "  </thead>\n",
       "  <tbody>\n",
       "    <tr>\n",
       "      <th>2017</th>\n",
       "      <td>737</td>\n",
       "      <td>666</td>\n",
       "      <td>651</td>\n",
       "      <td>737</td>\n",
       "      <td>2599</td>\n",
       "      <td>539</td>\n",
       "      <td>290</td>\n",
       "      <td>730</td>\n",
       "      <td>789</td>\n",
       "    </tr>\n",
       "    <tr>\n",
       "      <th>2018</th>\n",
       "      <td>810</td>\n",
       "      <td>654</td>\n",
       "      <td>624</td>\n",
       "      <td>714</td>\n",
       "      <td>2594</td>\n",
       "      <td>460</td>\n",
       "      <td>301</td>\n",
       "      <td>727</td>\n",
       "      <td>756</td>\n",
       "    </tr>\n",
       "    <tr>\n",
       "      <th>2019</th>\n",
       "      <td>789</td>\n",
       "      <td>673</td>\n",
       "      <td>638</td>\n",
       "      <td>724</td>\n",
       "      <td>2680</td>\n",
       "      <td>502</td>\n",
       "      <td>319</td>\n",
       "      <td>670</td>\n",
       "      <td>760</td>\n",
       "    </tr>\n",
       "    <tr>\n",
       "      <th>2020</th>\n",
       "      <td>738</td>\n",
       "      <td>709</td>\n",
       "      <td>601</td>\n",
       "      <td>758</td>\n",
       "      <td>2558</td>\n",
       "      <td>505</td>\n",
       "      <td>307</td>\n",
       "      <td>704</td>\n",
       "      <td>771</td>\n",
       "    </tr>\n",
       "  </tbody>\n",
       "</table>\n",
       "</div>"
      ],
      "text/plain": [
       "CATEGORIA  CELULARES  DVDS  ELETRODOMESTICOS  GAMES  INFORMATICA  LIVROS  MOVEIS  PASSAGENS  \\\n",
       "ANO                                                                                           \n",
       "2017             737   666               651    737         2599     539     290        730   \n",
       "2018             810   654               624    714         2594     460     301        727   \n",
       "2019             789   673               638    724         2680     502     319        670   \n",
       "2020             738   709               601    758         2558     505     307        704   \n",
       "\n",
       "CATEGORIA  TV E AUDIO  \n",
       "ANO                    \n",
       "2017              789  \n",
       "2018              756  \n",
       "2019              760  \n",
       "2020              771  "
      ]
     },
     "execution_count": 38,
     "metadata": {},
     "output_type": "execute_result"
    }
   ],
   "source": [
    "# Pivot de contagem de vendas de Ano por Categoria. Um modo diferente de se apresentar os dados utilizando .unstack()\n",
    "\n",
    "data_atemp.groupby(['ANO', 'CATEGORIA'])['TOTAL_ITEM'].count().unstack(1)"
   ]
  },
  {
   "cell_type": "code",
   "execution_count": 39,
   "metadata": {
    "scrolled": false
   },
   "outputs": [
    {
     "data": {
      "text/plain": [
       "<AxesSubplot:title={'center':'TOTAL VENDAS POR CATEGORIA POR ANO'}, xlabel='TOTAL VENDAS'>"
      ]
     },
     "execution_count": 39,
     "metadata": {},
     "output_type": "execute_result"
    },
    {
     "data": {
      "image/png": "[encoded data removed]",
      "text/plain": [
       "<Figure size 748.8x514.8 with 1 Axes>"
      ]
     },
     "metadata": {
      "needs_background": "light"
     },
     "output_type": "display_data"
    }
   ],
   "source": [
    "# Plot de total de vendas por categoria, agrupadas por ano.\n",
    "\n",
    "data_atemp.groupby(['ANO', 'CATEGORIA'])['TOTAL_ITEM'].sum().unstack(1).plot.bar(title = 'TOTAL VENDAS POR CATEGORIA POR ANO',\n",
    "                                                                                xlabel = 'TOTAL VENDAS')"
   ]
  },
  {
   "cell_type": "code",
   "execution_count": 40,
   "metadata": {
    "scrolled": false
   },
   "outputs": [
    {
     "data": {
      "text/html": [
       "<div>\n",
       "<style scoped>\n",
       "    .dataframe tbody tr th:only-of-type {\n",
       "        vertical-align: middle;\n",
       "    }\n",
       "\n",
       "    .dataframe tbody tr th {\n",
       "        vertical-align: top;\n",
       "    }\n",
       "\n",
       "    .dataframe thead th {\n",
       "        text-align: right;\n",
       "    }\n",
       "</style>\n",
       "<table border=\"1\" class=\"dataframe\">\n",
       "  <thead>\n",
       "    <tr style=\"text-align: right;\">\n",
       "      <th>ANO</th>\n",
       "      <th>2017</th>\n",
       "      <th>2018</th>\n",
       "      <th>2019</th>\n",
       "      <th>2020</th>\n",
       "    </tr>\n",
       "    <tr>\n",
       "      <th>MES</th>\n",
       "      <th></th>\n",
       "      <th></th>\n",
       "      <th></th>\n",
       "      <th></th>\n",
       "    </tr>\n",
       "  </thead>\n",
       "  <tbody>\n",
       "    <tr>\n",
       "      <th>1</th>\n",
       "      <td>1483829.0</td>\n",
       "      <td>1548665.0</td>\n",
       "      <td>1269116.0</td>\n",
       "      <td>1455808.0</td>\n",
       "    </tr>\n",
       "    <tr>\n",
       "      <th>10</th>\n",
       "      <td>1409959.0</td>\n",
       "      <td>1288179.0</td>\n",
       "      <td>1341195.0</td>\n",
       "      <td>1428962.0</td>\n",
       "    </tr>\n",
       "    <tr>\n",
       "      <th>11</th>\n",
       "      <td>1335708.0</td>\n",
       "      <td>1327136.0</td>\n",
       "      <td>1565963.0</td>\n",
       "      <td>1277161.0</td>\n",
       "    </tr>\n",
       "    <tr>\n",
       "      <th>12</th>\n",
       "      <td>1479976.0</td>\n",
       "      <td>1373437.0</td>\n",
       "      <td>1563567.0</td>\n",
       "      <td>1412721.0</td>\n",
       "    </tr>\n",
       "    <tr>\n",
       "      <th>2</th>\n",
       "      <td>1450451.0</td>\n",
       "      <td>1555502.0</td>\n",
       "      <td>1332635.0</td>\n",
       "      <td>1485332.0</td>\n",
       "    </tr>\n",
       "    <tr>\n",
       "      <th>3</th>\n",
       "      <td>1279095.0</td>\n",
       "      <td>1322163.0</td>\n",
       "      <td>1340646.0</td>\n",
       "      <td>1397699.0</td>\n",
       "    </tr>\n",
       "    <tr>\n",
       "      <th>4</th>\n",
       "      <td>1237115.0</td>\n",
       "      <td>1247224.0</td>\n",
       "      <td>1416548.0</td>\n",
       "      <td>1349695.0</td>\n",
       "    </tr>\n",
       "    <tr>\n",
       "      <th>5</th>\n",
       "      <td>1489284.0</td>\n",
       "      <td>1560074.0</td>\n",
       "      <td>1492916.0</td>\n",
       "      <td>1302539.0</td>\n",
       "    </tr>\n",
       "    <tr>\n",
       "      <th>6</th>\n",
       "      <td>1254511.0</td>\n",
       "      <td>1271805.0</td>\n",
       "      <td>1376649.0</td>\n",
       "      <td>1311144.0</td>\n",
       "    </tr>\n",
       "    <tr>\n",
       "      <th>7</th>\n",
       "      <td>1391516.0</td>\n",
       "      <td>1470307.0</td>\n",
       "      <td>1351838.0</td>\n",
       "      <td>1399677.0</td>\n",
       "    </tr>\n",
       "    <tr>\n",
       "      <th>8</th>\n",
       "      <td>1309291.0</td>\n",
       "      <td>1272622.0</td>\n",
       "      <td>1270384.0</td>\n",
       "      <td>1441165.0</td>\n",
       "    </tr>\n",
       "    <tr>\n",
       "      <th>9</th>\n",
       "      <td>1450045.0</td>\n",
       "      <td>1409061.0</td>\n",
       "      <td>1555117.0</td>\n",
       "      <td>1593614.0</td>\n",
       "    </tr>\n",
       "  </tbody>\n",
       "</table>\n",
       "</div>"
      ],
      "text/plain": [
       "ANO       2017       2018       2019       2020\n",
       "MES                                            \n",
       "1    1483829.0  1548665.0  1269116.0  1455808.0\n",
       "10   1409959.0  1288179.0  1341195.0  1428962.0\n",
       "11   1335708.0  1327136.0  1565963.0  1277161.0\n",
       "12   1479976.0  1373437.0  1563567.0  1412721.0\n",
       "2    1450451.0  1555502.0  1332635.0  1485332.0\n",
       "3    1279095.0  1322163.0  1340646.0  1397699.0\n",
       "4    1237115.0  1247224.0  1416548.0  1349695.0\n",
       "5    1489284.0  1560074.0  1492916.0  1302539.0\n",
       "6    1254511.0  1271805.0  1376649.0  1311144.0\n",
       "7    1391516.0  1470307.0  1351838.0  1399677.0\n",
       "8    1309291.0  1272622.0  1270384.0  1441165.0\n",
       "9    1450045.0  1409061.0  1555117.0  1593614.0"
      ]
     },
     "execution_count": 40,
     "metadata": {},
     "output_type": "execute_result"
    }
   ],
   "source": [
    "# Pivot de total vendas por Ano e Mes.\n",
    "\n",
    "data_atemp.groupby(['ANO','MES'])['TOTAL_ITEM'].sum().unstack(0)"
   ]
  }
 ],
 "metadata": {
  "kernelspec": {
   "display_name": "Python 3",
   "language": "python",
   "name": "python3"
  },
  "language_info": {
   "codemirror_mode": {
    "name": "ipython",
    "version": 3
   },
   "file_extension": ".py",
   "mimetype": "text/x-python",
   "name": "python",
   "nbconvert_exporter": "python",
   "pygments_lexer": "ipython3",
   "version": "3.8.5"
  },
  "varInspector": {
   "cols": {
    "lenName": 16,
    "lenType": 16,
    "lenVar": 40
   },
   "kernels_config": {
    "python": {
     "delete_cmd_postfix": "",
     "delete_cmd_prefix": "del ",
     "library": "var_list.py",
     "varRefreshCmd": "print(var_dic_list())"
    },
    "r": {
     "delete_cmd_postfix": ") ",
     "delete_cmd_prefix": "rm(",
     "library": "var_list.r",
     "varRefreshCmd": "cat(var_dic_list()) "
    }
   },
   "position": {
    "height": "285.85px",
    "left": "1564px",
    "right": "20px",
    "top": "127px",
    "width": "314px"
   },
   "types_to_exclude": [
    "module",
    "function",
    "builtin_function_or_method",
    "instance",
    "_Feature"
   ],
   "window_display": true
  }
 },
 "nbformat": 4,
 "nbformat_minor": 4
}
